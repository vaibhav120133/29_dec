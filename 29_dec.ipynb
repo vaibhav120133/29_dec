{
 "cells": [
  {
   "cell_type": "code",
   "execution_count": 1,
   "id": "1f7e1811-7be5-485a-874a-41a56f4742bc",
   "metadata": {},
   "outputs": [
    {
     "name": "stdout",
     "output_type": "stream",
     "text": [
      "1 3 5 "
     ]
    }
   ],
   "source": [
    "#1\n",
    "class node:\n",
    "    def __init__(self,data=0):\n",
    "        self.data=data \n",
    "        self.next=None\n",
    "def rlist(head):\n",
    "    pre=None\n",
    "    cur=head\n",
    "    while cur:\n",
    "        next_node=cur.next\n",
    "        cur.next=pre\n",
    "        pre=cur\n",
    "        cur=next_node\n",
    "    return pre\n",
    "head1=node(5)\n",
    "head1.next=node(3)\n",
    "head1.next.next=node(1)\n",
    "a=rlist(head1)\n",
    "o=a\n",
    "while o:\n",
    "    print(o.data,end=' ')\n",
    "    o=o.next"
   ]
  },
  {
   "cell_type": "code",
   "execution_count": 2,
   "id": "c1ff8c04-1dca-46d3-847c-f45b945e6fbc",
   "metadata": {},
   "outputs": [
    {
     "name": "stdout",
     "output_type": "stream",
     "text": [
      "1 2 3 4 5 6 "
     ]
    }
   ],
   "source": [
    "#2\n",
    "head2=node(2)\n",
    "head2.next=node(4)\n",
    "head2.next.next=node(6)\n",
    "b=head2\n",
    "head3=node()\n",
    "c=head3\n",
    "while a and b:\n",
    "    if a.data<=b.data:\n",
    "        c.next=node(a.data)\n",
    "        a=a.next\n",
    "    else:\n",
    "        c.next=node(b.data)\n",
    "        b=b.next        \n",
    "    c=c.next\n",
    "while a:\n",
    "    c.next = node(a.data)\n",
    "    a = a.next\n",
    "    c = c.next\n",
    "\n",
    "while b:\n",
    "    c.next = node(b.data)\n",
    "    b = b.next\n",
    "    c = c.next\n",
    "c=head3.next\n",
    "while c:\n",
    "    print(c.data,end=' ')\n",
    "    c=c.next\n",
    "  "
   ]
  },
  {
   "cell_type": "code",
   "execution_count": 3,
   "id": "4b28d84f-8e17-42b3-b52e-df1203551d82",
   "metadata": {},
   "outputs": [
    {
     "name": "stdout",
     "output_type": "stream",
     "text": [
      "1 2 3 4 6 "
     ]
    }
   ],
   "source": [
    "#3\n",
    "def rem(head,n):\n",
    "    t=head\n",
    "    temp=head\n",
    "    p=0\n",
    "    while temp:\n",
    "        p+=1\n",
    "        temp=temp.next\n",
    "    r=p-n\n",
    "    if r==0:\n",
    "        t=t.next\n",
    "        return t\n",
    "    for _ in range(r-1):\n",
    "        t=t.next\n",
    "    t.next=t.next.next\n",
    "    return head\n",
    "y=rem(head3.next,2)\n",
    "e=y\n",
    "while e:\n",
    "    print(e.data,end=' ')\n",
    "    e=e.next        \n",
    "    "
   ]
  },
  {
   "cell_type": "code",
   "execution_count": 9,
   "id": "c71c497d-27ac-4dd2-8a1e-7d195111f6f6",
   "metadata": {},
   "outputs": [
    {
     "name": "stdout",
     "output_type": "stream",
     "text": [
      "No intersection found\n"
     ]
    }
   ],
   "source": [
    "#4\n",
    "class Node:\n",
    "    def __init__(self,data=0):\n",
    "        self.data=data\n",
    "        self.next=None\n",
    "\n",
    "def inter(headA,headB):\n",
    "    a=headA\n",
    "    b=headB\n",
    "    la=lb=0\n",
    "    while a:\n",
    "        la+=1\n",
    "        a=a.next\n",
    "    while b:\n",
    "        lb+=1\n",
    "        b=b.next\n",
    "    a,b=headA,headB\n",
    "    if la>lb:\n",
    "        for _ in range(la-lb):\n",
    "            a=a.next\n",
    "    elif lb>la:\n",
    "        for _ in range(lb-la):\n",
    "            b=b.next\n",
    "    while a!=b:\n",
    "        a=a.next\n",
    "        b=b.next\n",
    "    return a\n",
    "\n",
    "h1=Node(1)\n",
    "h1.next=Node(2)\n",
    "h1.next.next=Node(3)\n",
    "h1.next.next.next=Node(4)\n",
    "\n",
    "h2=Node(9)\n",
    "h2.next=Node(8)\n",
    "h2.next.next=Node(3)\n",
    "h2.next.next.next=Node(4)\n",
    "t=inter(h1,h2)\n",
    "if t:\n",
    "    print(\"Node with value\",t.data)\n",
    "else:\n",
    "    print(\"No intersection found\")\n",
    "    "
   ]
  },
  {
   "cell_type": "code",
   "execution_count": 10,
   "id": "516545fc-243f-4ad9-94f8-b7c567df667d",
   "metadata": {},
   "outputs": [
    {
     "name": "stdout",
     "output_type": "stream",
     "text": [
      "1 2 3 4 "
     ]
    }
   ],
   "source": [
    "#5\n",
    "def dup(head):\n",
    "    a=head\n",
    "    while a and a.next:\n",
    "        if a.data==a.next.data:\n",
    "            a.next=a.next.next\n",
    "        a=a.next\n",
    "    return head\n",
    "e=dup(h1)\n",
    "while e:\n",
    "    print(e.data,end=' ')\n",
    "    e=e.next"
   ]
  },
  {
   "cell_type": "code",
   "execution_count": 11,
   "id": "9282841e-a3f7-4c58-9f0d-55232c583347",
   "metadata": {},
   "outputs": [
    {
     "name": "stdout",
     "output_type": "stream",
     "text": [
      "7 0 8 \n"
     ]
    }
   ],
   "source": [
    "#6\n",
    "class ListNode:\n",
    "    def __init__(self, val=0, next=None):\n",
    "        self.val = val\n",
    "        self.next = next\n",
    "\n",
    "def addTwoNumbers(l1, l2):\n",
    "    dummy_head = ListNode(0)\n",
    "    current = dummy_head\n",
    "    carry = 0\n",
    "\n",
    "    while l1 is not None or l2 is not None or carry:\n",
    "        val1 = l1.val if l1 else 0\n",
    "        val2 = l2.val if l2 else 0\n",
    "\n",
    "        total = val1 + val2 + carry\n",
    "        carry = total // 10\n",
    "        new_digit = total % 10\n",
    "\n",
    "        current.next = ListNode(new_digit)\n",
    "        current = current.next\n",
    "\n",
    "        if l1:\n",
    "            l1 = l1.next\n",
    "        if l2:\n",
    "            l2 = l2.next\n",
    "\n",
    "    return dummy_head.next\n",
    "\n",
    "# Helper function to print linked list\n",
    "def printLinkedList(node):\n",
    "    while node:\n",
    "        print(node.val, end=' ')\n",
    "        node = node.next\n",
    "    print()\n",
    "\n",
    "# Example usage:\n",
    "# List 1: 2 -> 4 -> 3 (represents 342)\n",
    "# List 2: 5 -> 6 -> 4 (represents 465)\n",
    "l1 = ListNode(2, ListNode(4, ListNode(3)))\n",
    "l2 = ListNode(5, ListNode(6, ListNode(4)))\n",
    "\n",
    "result = addTwoNumbers(l1, l2)\n",
    "printLinkedList(result)  # Output: 7 -> 0 -> 8 (represents 807)\n"
   ]
  },
  {
   "cell_type": "code",
   "execution_count": 12,
   "id": "eb7bd118-ee3f-4159-bc8e-4d9f6d012ac7",
   "metadata": {},
   "outputs": [
    {
     "name": "stdout",
     "output_type": "stream",
     "text": [
      "Original Linked List:\n",
      "1 2 3 4 \n",
      "\n",
      "Linked List after swapping pairs:\n",
      "2 1 4 3 \n"
     ]
    }
   ],
   "source": [
    "#7\n",
    "class ListNode:\n",
    "    def __init__(self, val=0, next=None):\n",
    "        self.val = val\n",
    "        self.next = next\n",
    "\n",
    "def swapPairs(head):\n",
    "    # Dummy node to handle edge cases\n",
    "    dummy = ListNode(0)\n",
    "    dummy.next = head\n",
    "    prev = dummy\n",
    "\n",
    "    while prev.next and prev.next.next:\n",
    "        # Nodes to be swapped\n",
    "        first = prev.next\n",
    "        second = prev.next.next\n",
    "\n",
    "        # Swapping\n",
    "        prev.next = second\n",
    "        first.next = second.next\n",
    "        second.next = first\n",
    "\n",
    "        # Move prev to the next pair\n",
    "        prev = first\n",
    "\n",
    "    return dummy.next\n",
    "\n",
    "# Helper function to print linked list\n",
    "def printLinkedList(node):\n",
    "    while node:\n",
    "        print(node.val, end=' ')\n",
    "        node = node.next\n",
    "    print()\n",
    "\n",
    "# Example usage:\n",
    "# Input: 1 -> 2 -> 3 -> 4 -> None\n",
    "head = ListNode(1, ListNode(2, ListNode(3, ListNode(4))))\n",
    "print(\"Original Linked List:\")\n",
    "printLinkedList(head)\n",
    "\n",
    "swapped_head = swapPairs(head)\n",
    "print(\"\\nLinked List after swapping pairs:\")\n",
    "printLinkedList(swapped_head)\n"
   ]
  },
  {
   "cell_type": "code",
   "execution_count": 3,
   "id": "442849e7-9811-47b0-9528-f3abcbaa5e9a",
   "metadata": {},
   "outputs": [
    {
     "name": "stdout",
     "output_type": "stream",
     "text": [
      "3 2 1 2 1 "
     ]
    }
   ],
   "source": [
    "#8\n",
    "class ListNode:\n",
    "    def __init__(self, val=0, next=None):\n",
    "        self.val = val\n",
    "        self.next = next\n",
    "\n",
    "h1=ListNode(1)\n",
    "h1.next=ListNode(2)\n",
    "h1.next.next=ListNode(3)\n",
    "h1.next.next.next=ListNode(2)\n",
    "h1.next.next.next.next=ListNode(1)\n",
    "\n",
    "def rev(head,k):\n",
    "    d=ListNode(0)\n",
    "    d.next=head\n",
    "    o=d\n",
    "    while True:\n",
    "        count=0\n",
    "        a=o.next\n",
    "        while a and count<k:\n",
    "            count+=1\n",
    "            a=a.next\n",
    "        if count<k:\n",
    "            break\n",
    "        pre=None\n",
    "        c=o.next\n",
    "        for i in range(k):\n",
    "            nex=c.next\n",
    "            c.next=pre\n",
    "            pre=c\n",
    "            c=nex\n",
    "        gs=o.next\n",
    "        ge=o.next\n",
    "        o.next=pre\n",
    "        ge.next=c\n",
    "        o=gs\n",
    "    return d.next\n",
    "y=rev(h1,3)\n",
    "e=y\n",
    "while e:\n",
    "    print(e.val,end=' ')\n",
    "    e=e.next  \n",
    "        \n",
    "        \n",
    "        \n",
    "            \n",
    "    "
   ]
  },
  {
   "cell_type": "code",
   "execution_count": 4,
   "id": "76b31414-b0a6-4777-8176-32490abb5a14",
   "metadata": {},
   "outputs": [
    {
     "name": "stdout",
     "output_type": "stream",
     "text": [
      "True\n"
     ]
    }
   ],
   "source": [
    "#9\n",
    "def reverse_list(head):\n",
    "    prev, curr, next = None, head, None\n",
    "    while curr:\n",
    "        next = curr.next\n",
    "        curr.next = prev\n",
    "        prev = curr\n",
    "        curr = next\n",
    "    return prev\n",
    "\n",
    "def is_palindrome(head):\n",
    "    if not head or not head.next:\n",
    "        return True\n",
    "\n",
    "    # Find middle\n",
    "    slow, fast = head, head\n",
    "    while fast and fast.next:\n",
    "        slow = slow.next\n",
    "        fast = fast.next.next\n",
    "\n",
    "    # Reverse second half\n",
    "    second_half = reverse_list(slow)\n",
    "\n",
    "    # Compare\n",
    "    p1, p2 = head, second_half\n",
    "    while p2:\n",
    "        if p1.val != p2.val:\n",
    "            return False\n",
    "        p1 = p1.next\n",
    "        p2 = p2.next\n",
    "\n",
    "    # Reverse second half back\n",
    "    second_half = reverse_list(second_half)\n",
    "    slow.next = second_half\n",
    "\n",
    "    return True\n",
    "print(is_palindrome(h1))"
   ]
  },
  {
   "cell_type": "code",
   "execution_count": 5,
   "id": "468cafb8-7caa-4ae7-be05-ef7136819057",
   "metadata": {},
   "outputs": [],
   "source": [
    "#10\n",
    "class ListNode:\n",
    "    def __init__(self, val=0, next=None):\n",
    "        self.val = val\n",
    "        self.next = next\n",
    "def rotateRight(head: ListNode, k: int) -> ListNode:\n",
    "    if not head or k == 0:\n",
    "        return head\n",
    "    \n",
    "    # Step 1: Find the length of the list\n",
    "    length = 1\n",
    "    current = head\n",
    "    while current.next:\n",
    "        current = current.next\n",
    "        length += 1\n",
    "    \n",
    "    # Step 2: Adjust k\n",
    "    k = k % length\n",
    "    if k == 0:\n",
    "        return head\n",
    "    \n",
    "    # Step 3: Find the new tail\n",
    "    new_tail_index = length - k - 1\n",
    "    current = head\n",
    "    for _ in range(new_tail_index):\n",
    "        current = current.next\n",
    "    \n",
    "    # Step 4: Identify the new head\n",
    "    new_head = current.next\n",
    "    current.next = None\n",
    "    \n",
    "    # Step 5: Connect the old tail to the old head\n",
    "    old_tail = new_head\n",
    "    while old_tail.next:\n",
    "        old_tail = old_tail.next\n",
    "    old_tail.next = head\n",
    "    \n",
    "    return new_head\n"
   ]
  },
  {
   "cell_type": "code",
   "execution_count": 6,
   "id": "19d125f4-89eb-442c-b900-e999f1e75d6d",
   "metadata": {},
   "outputs": [],
   "source": [
    "#11\n",
    "class Node:\n",
    "    def __init__(self, val=0, next=None, prev=None, child=None):\n",
    "        self.val = val\n",
    "        self.next = next\n",
    "        self.prev = prev\n",
    "        self.child = child\n",
    "def flatten(head: Node) -> Node:\n",
    "    if not head:\n",
    "        return head\n",
    "    \n",
    "    # Initialize the stack with the head node\n",
    "    stack = [head]\n",
    "    prev = None\n",
    "    \n",
    "    while stack:\n",
    "        # Pop the node from the stack\n",
    "        curr = stack.pop()\n",
    "        \n",
    "        if prev:\n",
    "            prev.next = curr\n",
    "            curr.prev = prev\n",
    "        \n",
    "        # If the node has a next node, push it to the stack\n",
    "        if curr.next:\n",
    "            stack.append(curr.next)\n",
    "        \n",
    "        # If the node has a child node, push it to the stack and flatten the child list\n",
    "        if curr.child:\n",
    "            stack.append(curr.child)\n",
    "            curr.child = None\n",
    "        \n",
    "        # Move to the next node in the flattened list\n",
    "        prev = curr\n",
    "    \n",
    "    # Ensure the last node's next is set to None\n",
    "    if prev:\n",
    "        prev.next = None\n",
    "    \n",
    "    return head\n"
   ]
  },
  {
   "cell_type": "code",
   "execution_count": 1,
   "id": "cc6a999d-50b9-4950-be4d-f2e0072908e9",
   "metadata": {},
   "outputs": [],
   "source": [
    "#12\n",
    "class ListNode:\n",
    "    def __init__(self, value=0, next=None):\n",
    "        self.value = value\n",
    "        self.next = next\n",
    "\n",
    "def rearrange_linked_list(head):\n",
    "    if not head or not head.next:\n",
    "        return head\n",
    "    \n",
    "    odd_head = odd = ListNode(0)  # Dummy node for odd positions\n",
    "    even_head = even = ListNode(0)  # Dummy node for even positions\n",
    "    current = head\n",
    "    is_odd = True\n",
    "    \n",
    "    while current:\n",
    "        if is_odd:\n",
    "            odd.next = current\n",
    "            odd = odd.next\n",
    "        else:\n",
    "            even.next = current\n",
    "            even = even.next\n",
    "        current = current.next\n",
    "        is_odd = not is_odd\n",
    "    \n",
    "    # End of even list should point to None\n",
    "    even.next = None\n",
    "    # Connect end of odd list to the beginning of even list\n",
    "    odd.next = even_head.next\n",
    "    \n",
    "    return odd_head.next\n"
   ]
  },
  {
   "cell_type": "code",
   "execution_count": 2,
   "id": "2cc75274-a507-4d10-94d4-1a8ef435e97b",
   "metadata": {},
   "outputs": [],
   "source": [
    "#13\n",
    "class ListNode:\n",
    "    def __init__(self, value=0, next=None):\n",
    "        self.value = value\n",
    "        self.next = next\n",
    "\n",
    "def reverse_linked_list(head):\n",
    "    prev = None\n",
    "    current = head\n",
    "    while current:\n",
    "        next_node = current.next\n",
    "        current.next = prev\n",
    "        prev = current\n",
    "        current = next_node\n",
    "    return prev\n",
    "\n",
    "def add_one_to_list(head):\n",
    "    # Step 1: Reverse the linked list\n",
    "    head = reverse_linked_list(head)\n",
    "    \n",
    "    # Step 2: Add one to the reversed list\n",
    "    current = head\n",
    "    carry = 1  # We are adding one, so start with carry = 1\n",
    "    \n",
    "    while current and carry:\n",
    "        sum_value = current.value + carry\n",
    "        carry = sum_value // 10\n",
    "        current.value = sum_value % 10\n",
    "        if current.next is None and carry > 0:\n",
    "            # If we are at the last node and there's still a carry, add a new node\n",
    "            current.next = ListNode(carry)\n",
    "            carry = 0\n",
    "        current = current.next\n",
    "    \n",
    "    # Step 3: Reverse the linked list again to restore original order\n",
    "    head = reverse_linked_list(head)\n",
    "    \n",
    "    return head\n",
    "\n",
    "# Helper function to print the linked list\n",
    "def print_linked_list(head):\n",
    "    current = head\n",
    "    while current:\n",
    "        print(current.value, end=' ')\n",
    "        current = current.next\n",
    "    print()\n"
   ]
  },
  {
   "cell_type": "code",
   "execution_count": 3,
   "id": "7ed821e7-45ee-4af7-9d9d-1a169bcbb704",
   "metadata": {},
   "outputs": [
    {
     "name": "stdout",
     "output_type": "stream",
     "text": [
      "2\n",
      "1\n",
      "4\n",
      "0\n"
     ]
    }
   ],
   "source": [
    "#14\n",
    "def search_insert_position(nums, target):\n",
    "    left, right = 0, len(nums) - 1\n",
    "    \n",
    "    while left <= right:\n",
    "        mid = (left + right) // 2\n",
    "        \n",
    "        if nums[mid] == target:\n",
    "            return mid\n",
    "        elif nums[mid] < target:\n",
    "            left = mid + 1\n",
    "        else:\n",
    "            right = mid - 1\n",
    "    \n",
    "    return left\n",
    "\n",
    "# Example usage\n",
    "nums = [1, 3, 5, 6]\n",
    "target = 5\n",
    "print(search_insert_position(nums, target))  # Output: 2\n",
    "\n",
    "target = 2\n",
    "print(search_insert_position(nums, target))  # Output: 1\n",
    "\n",
    "target = 7\n",
    "print(search_insert_position(nums, target))  # Output: 4\n",
    "\n",
    "target = 0\n",
    "print(search_insert_position(nums, target))  # Output: 0\n"
   ]
  },
  {
   "cell_type": "code",
   "execution_count": 4,
   "id": "d3832020-809c-48e3-9c43-f9985040d437",
   "metadata": {},
   "outputs": [
    {
     "name": "stdout",
     "output_type": "stream",
     "text": [
      "0\n",
      "1\n",
      "11\n",
      "1\n"
     ]
    }
   ],
   "source": [
    "#15\n",
    "def find_min_in_rotated_sorted_array(nums):\n",
    "    if not nums:\n",
    "        return None  # Handle empty array case\n",
    "\n",
    "    left, right = 0, len(nums) - 1\n",
    "\n",
    "    while left < right:\n",
    "        mid = (left + right) // 2\n",
    "\n",
    "        # If the middle element is greater than the rightmost element,\n",
    "        # then the minimum element must be in the right half.\n",
    "        if nums[mid] > nums[right]:\n",
    "            left = mid + 1\n",
    "        # If the middle element is less than or equal to the rightmost element,\n",
    "        # then the minimum element is in the left half (including mid).\n",
    "        elif nums[mid] < nums[right]:\n",
    "            right = mid\n",
    "        else:\n",
    "            # If nums[mid] == nums[right], reduce the search space by moving right pointer\n",
    "            right -= 1\n",
    "\n",
    "    # At the end of the loop, left == right, which is the minimum element\n",
    "    return nums[left]\n",
    "\n",
    "# Example usage\n",
    "nums = [4, 5, 6, 7, 0, 1, 2]\n",
    "print(find_min_in_rotated_sorted_array(nums))  # Output: 0\n",
    "\n",
    "nums = [3, 4, 5, 6, 1, 2]\n",
    "print(find_min_in_rotated_sorted_array(nums))  # Output: 1\n",
    "\n",
    "nums = [11, 13, 15, 17]\n",
    "print(find_min_in_rotated_sorted_array(nums))  # Output: 11\n",
    "\n",
    "nums = [2, 2, 2, 2, 2, 2, 1, 2]\n",
    "print(find_min_in_rotated_sorted_array(nums))  # Output: 1\n"
   ]
  },
  {
   "cell_type": "code",
   "execution_count": 5,
   "id": "0ee031f8-2df0-408f-8b7c-e6e8aa057ad7",
   "metadata": {},
   "outputs": [
    {
     "name": "stdout",
     "output_type": "stream",
     "text": [
      "4\n",
      "-1\n",
      "0\n",
      "1\n"
     ]
    }
   ],
   "source": [
    "#16\n",
    "def search_in_rotated_sorted_array(nums, target):\n",
    "    if not nums:\n",
    "        return -1  # Handle empty array case\n",
    "\n",
    "    left, right = 0, len(nums) - 1\n",
    "    \n",
    "    while left <= right:\n",
    "        mid = (left + right) // 2\n",
    "        \n",
    "        if nums[mid] == target:\n",
    "            return mid\n",
    "        \n",
    "        # Determine which side is sorted\n",
    "        if nums[left] <= nums[mid]:  # Left side is sorted\n",
    "            if nums[left] <= target < nums[mid]:\n",
    "                right = mid - 1\n",
    "            else:\n",
    "                left = mid + 1\n",
    "        else:  # Right side is sorted\n",
    "            if nums[mid] < target <= nums[right]:\n",
    "                left = mid + 1\n",
    "            else:\n",
    "                right = mid - 1\n",
    "\n",
    "    return -1  # Target not found\n",
    "\n",
    "# Example usage\n",
    "nums = [4, 5, 6, 7, 0, 1, 2]\n",
    "target = 0\n",
    "print(search_in_rotated_sorted_array(nums, target))  # Output: 4\n",
    "\n",
    "target = 3\n",
    "print(search_in_rotated_sorted_array(nums, target))  # Output: -1\n",
    "\n",
    "nums = [1, 3]\n",
    "target = 1\n",
    "print(search_in_rotated_sorted_array(nums, target))  # Output: 0\n",
    "\n",
    "nums = [3, 1]\n",
    "target = 1\n",
    "print(search_in_rotated_sorted_array(nums, target))  # Output: 1\n"
   ]
  },
  {
   "cell_type": "code",
   "execution_count": 6,
   "id": "559daca1-d2eb-4f28-9493-f5a2e251423a",
   "metadata": {},
   "outputs": [
    {
     "name": "stdout",
     "output_type": "stream",
     "text": [
      "2\n",
      "4\n",
      "2\n",
      "5\n"
     ]
    }
   ],
   "source": [
    "#17\n",
    "def find_peak_element(nums):\n",
    "    if not nums:\n",
    "        return -1  # Handle empty array case\n",
    "    \n",
    "    left, right = 0, len(nums) - 1\n",
    "    \n",
    "    while left <= right:\n",
    "        mid = (left + right) // 2\n",
    "        \n",
    "        # Check if mid is a peak element\n",
    "        if (mid == 0 or nums[mid] >= nums[mid - 1]) and (mid == len(nums) - 1 or nums[mid] >= nums[mid + 1]):\n",
    "            return mid\n",
    "        \n",
    "        # If the middle element is less than the next element, then a peak must be in the right half\n",
    "        if mid < len(nums) - 1 and nums[mid] < nums[mid + 1]:\n",
    "            left = mid + 1\n",
    "        # If the middle element is less than the previous element, then a peak must be in the left half\n",
    "        else:\n",
    "            right = mid - 1\n",
    "\n",
    "    return -1  # Should never be reached if the input array is valid\n",
    "\n",
    "# Example usage\n",
    "nums = [1, 3, 20, 4, 1]\n",
    "print(find_peak_element(nums))  # Output: 2 (The peak element is 20)\n",
    "\n",
    "nums = [1, 2, 3, 4, 5]\n",
    "print(find_peak_element(nums))  # Output: 4 (The peak element is 5)\n",
    "\n",
    "nums = [5, 10, 20, 15]\n",
    "print(find_peak_element(nums))  # Output: 2 (The peak element is 20)\n",
    "\n",
    "nums = [1, 2, 1, 3, 5, 6]\n",
    "print(find_peak_element(nums))  # Output: 5 (The peak element is 6)\n"
   ]
  },
  {
   "cell_type": "code",
   "execution_count": 7,
   "id": "cd1e6a3c-af7f-43b6-a469-a83508f5a6e5",
   "metadata": {},
   "outputs": [
    {
     "name": "stdout",
     "output_type": "stream",
     "text": [
      "16\n",
      "0\n",
      "4\n"
     ]
    }
   ],
   "source": [
    "#18\n",
    "def count_negatives(matrix):\n",
    "    if not matrix:\n",
    "        return 0\n",
    "    \n",
    "    m, n = len(matrix), len(matrix[0])\n",
    "    row, col = 0, n - 1\n",
    "    count = 0\n",
    "\n",
    "    while row < m and col >= 0:\n",
    "        if matrix[row][col] < 0:\n",
    "            count += (col + 1)  # All elements to the left in this row are negative\n",
    "            row += 1  # Move down to the next row\n",
    "        else:\n",
    "            col -= 1  # Move left\n",
    "\n",
    "    return count\n",
    "\n",
    "# Example usage\n",
    "matrix = [\n",
    "    [4, 3, 2, -1],\n",
    "    [3, 2, 1, -1],\n",
    "    [1, 1, -1, -2],\n",
    "    [-1, -1, -2, -3]\n",
    "]\n",
    "print(count_negatives(matrix))  # Output: 8\n",
    "\n",
    "matrix = [\n",
    "    [3, 2],\n",
    "    [1, 0]\n",
    "]\n",
    "print(count_negatives(matrix))  # Output: 0\n",
    "\n",
    "matrix = [\n",
    "    [1, -1],\n",
    "    [-1, -2]\n",
    "]\n",
    "print(count_negatives(matrix))  # Output: 3\n"
   ]
  },
  {
   "cell_type": "code",
   "execution_count": 8,
   "id": "9720430b-1993-4221-8be4-1987210b8b2a",
   "metadata": {},
   "outputs": [
    {
     "name": "stdout",
     "output_type": "stream",
     "text": [
      "True\n",
      "False\n",
      "False\n",
      "True\n"
     ]
    }
   ],
   "source": [
    "#19\n",
    "def search_matrix(matrix, target):\n",
    "    if not matrix or not matrix[0]:\n",
    "        return False\n",
    "    \n",
    "    rows, cols = len(matrix), len(matrix[0])\n",
    "    \n",
    "    # Binary search to find the correct row\n",
    "    left, right = 0, rows - 1\n",
    "    \n",
    "    while left <= right:\n",
    "        mid = (left + right) // 2\n",
    "        \n",
    "        if matrix[mid][0] <= target <= matrix[mid][-1]:\n",
    "            # Binary search within the row\n",
    "            row = matrix[mid]\n",
    "            l, r = 0, cols - 1\n",
    "            while l <= r:\n",
    "                m = (l + r) // 2\n",
    "                if row[m] == target:\n",
    "                    return True\n",
    "                elif row[m] < target:\n",
    "                    l = m + 1\n",
    "                else:\n",
    "                    r = m - 1\n",
    "            return False\n",
    "        elif target < matrix[mid][0]:\n",
    "            right = mid - 1\n",
    "        else:\n",
    "            left = mid + 1\n",
    "    \n",
    "    return False\n",
    "\n",
    "# Example usage\n",
    "matrix = [\n",
    "    [1, 4, 7, 11],\n",
    "    [2, 5, 8, 12],\n",
    "    [3, 6, 9, 16],\n",
    "    [10, 13, 14, 17]\n",
    "]\n",
    "\n",
    "target = 5\n",
    "print(search_matrix(matrix, target))  # Output: True\n",
    "\n",
    "target = 20\n",
    "print(search_matrix(matrix, target))  # Output: False\n",
    "\n",
    "target = 14\n",
    "print(search_matrix(matrix, target))  # Output: True\n",
    "\n",
    "target = 1\n",
    "print(search_matrix(matrix, target))  # Output: True\n"
   ]
  },
  {
   "cell_type": "code",
   "execution_count": 9,
   "id": "0ac01e4d-6837-41fa-b30c-fb53b3a94ce2",
   "metadata": {},
   "outputs": [
    {
     "name": "stdout",
     "output_type": "stream",
     "text": [
      "2\n",
      "2.5\n",
      "0.0\n"
     ]
    }
   ],
   "source": [
    "#20\n",
    "def find_median_sorted_arrays(nums1, nums2):\n",
    "    # Ensure nums1 is the smaller array\n",
    "    if len(nums1) > len(nums2):\n",
    "        nums1, nums2 = nums2, nums1\n",
    "    \n",
    "    x, y = len(nums1), len(nums2)\n",
    "    i_min, i_max, half_len = 0, x, (x + y + 1) // 2\n",
    "    \n",
    "    while i_min <= i_max:\n",
    "        i = (i_min + i_max) // 2\n",
    "        j = half_len - i\n",
    "        \n",
    "        if i < x and nums2[j - 1] > nums1[i]:\n",
    "            i_min = i + 1\n",
    "        elif i > 0 and nums1[i - 1] > nums2[j]:\n",
    "            i_max = i - 1\n",
    "        else:\n",
    "            if i == 0: max_of_left = nums2[j - 1]\n",
    "            elif j == 0: max_of_left = nums1[i - 1]\n",
    "            else: max_of_left = max(nums1[i - 1], nums2[j - 1])\n",
    "            \n",
    "            if (x + y) % 2 == 1:\n",
    "                return max_of_left\n",
    "            \n",
    "            if i == x: min_of_right = nums2[j]\n",
    "            elif j == y: min_of_right = nums1[i]\n",
    "            else: min_of_right = min(nums1[i], nums2[j])\n",
    "            \n",
    "            return (max_of_left + min_of_right) / 2.0\n",
    "\n",
    "# Example usage\n",
    "nums1 = [1, 3]\n",
    "nums2 = [2]\n",
    "print(find_median_sorted_arrays(nums1, nums2))  # Output: 2.0\n",
    "\n",
    "nums1 = [1, 2]\n",
    "nums2 = [3, 4]\n",
    "print(find_median_sorted_arrays(nums1, nums2))  # Output: 2.5\n",
    "\n",
    "nums1 = [0, 0]\n",
    "nums2 = [0, 0]\n",
    "print(find_median_sorted_arrays(nums1, nums2))  # Output: 0.0\n"
   ]
  },
  {
   "cell_type": "code",
   "execution_count": 10,
   "id": "4ba2bc3d-45d3-44c9-8e74-07d1e017d3d5",
   "metadata": {},
   "outputs": [
    {
     "name": "stdout",
     "output_type": "stream",
     "text": [
      "c\n",
      "f\n",
      "f\n",
      "j\n",
      "c\n"
     ]
    }
   ],
   "source": [
    "#21\n",
    "def next_greatest_letter(letters, target):\n",
    "    # Binary search initialization\n",
    "    left, right = 0, len(letters) - 1\n",
    "    \n",
    "    # Binary search for the smallest letter greater than target\n",
    "    while left <= right:\n",
    "        mid = (left + right) // 2\n",
    "        if letters[mid] <= target:\n",
    "            left = mid + 1\n",
    "        else:\n",
    "            right = mid - 1\n",
    "    \n",
    "    # After binary search, left points to the smallest letter greater than target\n",
    "    # If left is out of bounds, return the first element (wrap-around)\n",
    "    return letters[left % len(letters)]\n",
    "\n",
    "# Example usage\n",
    "letters = ['c', 'f', 'j']\n",
    "target = 'a'\n",
    "print(next_greatest_letter(letters, target))  # Output: 'c'\n",
    "\n",
    "target = 'c'\n",
    "print(next_greatest_letter(letters, target))  # Output: 'f'\n",
    "\n",
    "target = 'd'\n",
    "print(next_greatest_letter(letters, target))  # Output: 'f'\n",
    "\n",
    "target = 'g'\n",
    "print(next_greatest_letter(letters, target))  # Output: 'j'\n",
    "\n",
    "target = 'j'\n",
    "print(next_greatest_letter(letters, target))  # Output: 'c'\n"
   ]
  },
  {
   "cell_type": "code",
   "execution_count": 11,
   "id": "4ffea9db-b4ac-4f8a-8762-ea64329f4d3d",
   "metadata": {},
   "outputs": [
    {
     "name": "stdout",
     "output_type": "stream",
     "text": [
      "[0, 0, 1, 1, 2, 2]\n",
      "[0, 1, 2]\n",
      "[0, 1, 2]\n"
     ]
    }
   ],
   "source": [
    "#22\n",
    "def sort_colors(nums):\n",
    "    low, mid, high = 0, 0, len(nums) - 1\n",
    "    \n",
    "    while mid <= high:\n",
    "        if nums[mid] == 0:  # Red\n",
    "            nums[low], nums[mid] = nums[mid], nums[low]\n",
    "            low += 1\n",
    "            mid += 1\n",
    "        elif nums[mid] == 1:  # White\n",
    "            mid += 1\n",
    "        else:  # Blue\n",
    "            nums[high], nums[mid] = nums[mid], nums[high]\n",
    "            high -= 1\n",
    "\n",
    "# Example usage\n",
    "nums = [2, 0, 2, 1, 1, 0]\n",
    "sort_colors(nums)\n",
    "print(nums)  # Output: [0, 0, 1, 1, 2, 2]\n",
    "\n",
    "nums = [1, 2, 0]\n",
    "sort_colors(nums)\n",
    "print(nums)  # Output: [0, 1, 2]\n",
    "\n",
    "nums = [2, 0, 1]\n",
    "sort_colors(nums)\n",
    "print(nums)  # Output: [0, 1, 2]\n"
   ]
  },
  {
   "cell_type": "code",
   "execution_count": 12,
   "id": "0537450a-2132-444b-9ef7-d925b262120a",
   "metadata": {},
   "outputs": [
    {
     "name": "stdout",
     "output_type": "stream",
     "text": [
      "5\n"
     ]
    }
   ],
   "source": [
    "#23\n",
    "import heapq\n",
    "\n",
    "def find_kth_largest(nums, k):\n",
    "    min_heap = nums[:k]\n",
    "    heapq.heapify(min_heap)\n",
    "    \n",
    "    for num in nums[k:]:\n",
    "        if num > min_heap[0]:\n",
    "            heapq.heapreplace(min_heap, num)\n",
    "    \n",
    "    return min_heap[0]\n",
    "\n",
    "# Example usage\n",
    "nums = [3, 2, 1, 5, 6, 4]\n",
    "k = 2\n",
    "print(find_kth_largest(nums, k))  # Output: 5\n"
   ]
  },
  {
   "cell_type": "code",
   "execution_count": 13,
   "id": "69a1ec21-ea25-4c80-809c-b2517a0f218a",
   "metadata": {},
   "outputs": [
    {
     "name": "stdout",
     "output_type": "stream",
     "text": [
      "[3, 5, 1, 6, 2, 4]\n",
      "[1, 3, 2, 4, 1, 2]\n"
     ]
    }
   ],
   "source": [
    "#24\n",
    "def wiggle_sort(nums):\n",
    "    # Traverse the array with a step of 2\n",
    "    for i in range(len(nums) - 1):\n",
    "        if i % 2 == 0:  # Even index\n",
    "            if nums[i] > nums[i + 1]:\n",
    "                nums[i], nums[i + 1] = nums[i + 1], nums[i]\n",
    "        else:  # Odd index\n",
    "            if nums[i] < nums[i + 1]:\n",
    "                nums[i], nums[i + 1] = nums[i + 1], nums[i]\n",
    "\n",
    "# Example usage\n",
    "nums = [3, 5, 2, 1, 6, 4]\n",
    "wiggle_sort(nums)\n",
    "print(nums)  # Output: [1, 6, 2, 5, 3, 4]\n",
    "\n",
    "nums = [1, 3, 2, 2, 4, 1]\n",
    "wiggle_sort(nums)\n",
    "print(nums)  # Output: [1, 3, 1, 4, 2, 2]\n"
   ]
  },
  {
   "cell_type": "code",
   "execution_count": 14,
   "id": "79be75cf-6fa3-4808-b87d-b1832fbc9bf3",
   "metadata": {},
   "outputs": [
    {
     "name": "stdout",
     "output_type": "stream",
     "text": [
      "15\n"
     ]
    }
   ],
   "source": [
    "#25\n",
    "def sum_of_elements(arr):\n",
    "    total_sum = 0\n",
    "    for num in arr:\n",
    "        total_sum += num\n",
    "    return total_sum\n",
    "\n",
    "# Example usage\n",
    "arr = [1, 2, 3, 4, 5]\n",
    "print(sum_of_elements(arr))  # Output: 15\n"
   ]
  },
  {
   "cell_type": "code",
   "execution_count": 15,
   "id": "126edb7e-389f-4ec0-b333-8d82e5563d87",
   "metadata": {},
   "outputs": [
    {
     "name": "stdout",
     "output_type": "stream",
     "text": [
      "9\n"
     ]
    }
   ],
   "source": [
    "#26\n",
    "def find_max_element(arr):\n",
    "    if not arr:  # Handle empty array case\n",
    "        raise ValueError(\"Array is empty\")\n",
    "    \n",
    "    max_value = arr[0]\n",
    "    for num in arr[1:]:\n",
    "        if num > max_value:\n",
    "            max_value = num\n",
    "    return max_value\n",
    "\n",
    "# Example usage\n",
    "arr = [3, 5, 2, 9, 7]\n",
    "print(find_max_element(arr))  # Output: 9\n"
   ]
  },
  {
   "cell_type": "code",
   "execution_count": 16,
   "id": "9c032211-d595-4bcb-afa4-7da259629e23",
   "metadata": {},
   "outputs": [
    {
     "name": "stdout",
     "output_type": "stream",
     "text": [
      "2\n",
      "-1\n"
     ]
    }
   ],
   "source": [
    "#27\n",
    "def linear_search(arr, target):\n",
    "    for index, element in enumerate(arr):\n",
    "        if element == target:\n",
    "            return index\n",
    "    return -1\n",
    "\n",
    "# Example usage\n",
    "arr = [10, 20, 30, 40, 50]\n",
    "target = 30\n",
    "print(linear_search(arr, target))  # Output: 2\n",
    "\n",
    "target = 60\n",
    "print(linear_search(arr, target))  # Output: -1\n"
   ]
  },
  {
   "cell_type": "code",
   "execution_count": 17,
   "id": "f8614d68-8682-494a-85da-57ecb01f1179",
   "metadata": {},
   "outputs": [
    {
     "name": "stdout",
     "output_type": "stream",
     "text": [
      "120\n"
     ]
    }
   ],
   "source": [
    "#28\n",
    "def factorial_iterative(n):\n",
    "    if n < 0:\n",
    "        raise ValueError(\"Factorial is not defined for negative numbers\")\n",
    "    result = 1\n",
    "    for i in range(1, n + 1):\n",
    "        result *= i\n",
    "    return result\n",
    "\n",
    "# Example usage\n",
    "n = 5\n",
    "print(factorial_iterative(n))  # Output: 120\n"
   ]
  },
  {
   "cell_type": "code",
   "execution_count": 19,
   "id": "a1a952bb-1d42-47ff-bad8-56e55c684740",
   "metadata": {},
   "outputs": [
    {
     "name": "stdout",
     "output_type": "stream",
     "text": [
      "True\n"
     ]
    }
   ],
   "source": [
    "#29\n",
    "import math\n",
    "\n",
    "def is_prime(n):\n",
    "    if n <= 1:\n",
    "        return False\n",
    "    if n <= 3:\n",
    "        return True\n",
    "    if n % 2 == 0 or n % 3 == 0:\n",
    "        return False\n",
    "    \n",
    "    # Check for factors from 5 to sqrt(n)\n",
    "    i = 5\n",
    "    while i * i <= n:\n",
    "        if n % i == 0 or n % (i + 2) == 0:\n",
    "            return False\n",
    "        i += 6\n",
    "    \n",
    "    return True\n",
    "\n",
    "# Example usage\n",
    "print(is_prime(29))  # Output: True\n",
    "\n"
   ]
  },
  {
   "cell_type": "code",
   "execution_count": 20,
   "id": "d49ce369-e738-41e2-b36b-2642b603151b",
   "metadata": {},
   "outputs": [
    {
     "name": "stdout",
     "output_type": "stream",
     "text": [
      "[0, 1, 1, 2, 3, 5, 8, 13]\n"
     ]
    }
   ],
   "source": [
    "#30\n",
    "def generate_fibonacci_up_to(n):\n",
    "    fibonacci_sequence = []\n",
    "    a, b = 0, 1\n",
    "    \n",
    "    while a <= n:\n",
    "        fibonacci_sequence.append(a)\n",
    "        a, b = b, a + b\n",
    "    \n",
    "    return fibonacci_sequence\n",
    "\n",
    "# Example usage\n",
    "n = 20\n",
    "print(generate_fibonacci_up_to(n))  # Output: [0, 1, 1, 2, 3, 5, 8, 13]\n"
   ]
  },
  {
   "cell_type": "code",
   "execution_count": null,
   "id": "e180b3fb-0e9b-49db-9761-a76bcaa91ae6",
   "metadata": {},
   "outputs": [],
   "source": [
    "#31\n"
   ]
  }
 ],
 "metadata": {
  "kernelspec": {
   "display_name": "Python 3 (ipykernel)",
   "language": "python",
   "name": "python3"
  },
  "language_info": {
   "codemirror_mode": {
    "name": "ipython",
    "version": 3
   },
   "file_extension": ".py",
   "mimetype": "text/x-python",
   "name": "python",
   "nbconvert_exporter": "python",
   "pygments_lexer": "ipython3",
   "version": "3.10.8"
  }
 },
 "nbformat": 4,
 "nbformat_minor": 5
}
